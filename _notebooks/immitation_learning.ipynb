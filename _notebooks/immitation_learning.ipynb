{
 "cells": [
  {
   "cell_type": "markdown",
   "id": "5e8e2eba",
   "metadata": {},
   "source": [
    "# MU5EEH15: Interactive Robot Learning\n",
    "\n",
    "Objective: Learn how to do programming in `Python` interactive robot learning.\n",
    "- Machine learning / Human Robot Interaction (HRI)\n",
    "- Reinforcement learning (rewards, human feedback)\n",
    "- Supervised learning\n",
    "- Immitation learning\n",
    "\n",
    "Organization: Lectures and Practical Labs (TP 40%) + Final exams **(60%)**\n",
    "\n",
    "**Evaluation**: C++ Programming exam **(30%)** + ROS Driver Design exam **(30%)**\n",
    "\n",
    "**Teacher**: Mohamed CHETOUANI - mail: mohamed.chetouani@sorbonne-universite.fr\n",
    "\n",
    "___"
   ]
  },
  {
   "cell_type": "markdown",
   "id": "e88a827c",
   "metadata": {},
   "source": [
    "# Learning goals\n",
    "\n",
    "By the end of this lecture, you should be able to:\n",
    "- Explain each of the key ingredients of\n",
    "imitation learning (demonstrations,\n",
    "environment, policy class, loss function,\n",
    "learning algorithm)\n",
    "- Define different imitation learning techniques, their strengths and limitations state visitation frequency, occupancy\n",
    "frequency and distributional shift\n",
    "- Explain the underlying differences between direct policy learning vs. Inverse Reinforcement Learning (IRL)\n",
    "- Explain different reward function representations in IRL\n",
    "- Define four main problems and solutions related to IRL:\n",
    "    - reward function ambiguity (degeneracy)\n",
    "    - expert suboptimality\n",
    "    - computational intensiveness\n",
    "- Master the following three learning algorithms:\n",
    "    - Behavioral Cloning (BC)\n",
    "    - DAgger\n",
    "    - Apprenticeship Learning IRL\n",
    "\n",
    "___"
   ]
  },
  {
   "cell_type": "markdown",
   "id": "529afa6a",
   "metadata": {},
   "source": []
  }
 ],
 "metadata": {
  "language_info": {
   "name": "python"
  }
 },
 "nbformat": 4,
 "nbformat_minor": 5
}
